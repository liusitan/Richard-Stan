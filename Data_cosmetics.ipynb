{
 "cells": [
  {
   "cell_type": "code",
   "execution_count": 75,
   "metadata": {
    "collapsed": true
   },
   "outputs": [],
   "source": [
    "from sklearn import decomposition\n",
    "import random  \n",
    "import matplotlib.pyplot as plt\n",
    "import numpy as np\n",
    "import pandas as pd\n",
    "import scipy as sp\n",
    "from scipy import signal"
   ]
  },
  {
   "cell_type": "markdown",
   "metadata": {},
   "source": [
    "# Import the mat data return the mat_header, all the experiment_data, recording time vector"
   ]
  },
  {
   "cell_type": "code",
   "execution_count": 76,
   "metadata": {
    "collapsed": true
   },
   "outputs": [],
   "source": [
    "def convert_mat(mat_name):\n",
    "    raw_channel_recording = sp.io.loadmat(mat_name,mat_dtype = True)\n",
    "    index_time = raw_channel_recording.get('t_s') \n",
    "    channel_recording = raw_channel_recording.get('spikes')\n",
    "    header = raw_channel_recording.get('__header__')\n",
    "    channel_recording = channel_recording[4:,:]# it could be really flexible\n",
    "    return header, channel_recording,index_time"
   ]
  },
  {
   "cell_type": "markdown",
   "metadata": {},
   "source": [
    "# convert the channel recording for each experiment into a dataframe\n",
    "## return the experiment_collection(a dict with keys named by the order of experiment\n",
    "## return the new recording length for this time_window"
   ]
  },
  {
   "cell_type": "code",
   "execution_count": 84,
   "metadata": {
    "collapsed": false
   },
   "outputs": [
    {
     "ename": "SyntaxError",
     "evalue": "invalid syntax (<ipython-input-84-a190c2bd27d3>, line 10)",
     "output_type": "error",
     "traceback": [
      "\u001b[0;36m  File \u001b[0;32m\"<ipython-input-84-a190c2bd27d3>\"\u001b[0;36m, line \u001b[0;32m10\u001b[0m\n\u001b[0;31m    temp_df = pd.DataFrame(np.zeros([np.ceil(len(index_time/steps),64]),columns = channel_collection)\u001b[0m\n\u001b[0m                                                                     ^\u001b[0m\n\u001b[0;31mSyntaxError\u001b[0m\u001b[0;31m:\u001b[0m invalid syntax\n"
     ]
    }
   ],
   "source": [
    "def to_timeseries(experiment_selected,time_resolution,index_time):\n",
    "    channel_collection= []\n",
    "    for i in np.arange(0,64):\n",
    "        channel_collection.append('Channel_{0}'.format(i))\n",
    "    order = 0\n",
    "    steps = time_resolution/0.00008 # 0.00008 is the highest time resolution in the raw data # turn the time resolution into steps\n",
    "    ##Binary conversion\n",
    "    experiment_collection ={}\n",
    "    for experiment in experiment_selected:\n",
    "        temp_df = pd.DataFrame(np.zeros([np.ceil(len(index_time/steps),64)]),columns = channel_collection)\n",
    "        for i,channel in enumerate(experiment): \n",
    "            if len(channel[0]) != 0:\n",
    "                channel = np.floor(channel/steps)\n",
    "                np.reshape(channel,len(channel))\n",
    "                channel = channel.astype(int)\n",
    "                channel = np.reshape(channel,len(channel))\n",
    "                temp_df.loc[channel,'Channel_{0}'.format(i)]+= 1\n",
    "        temp_df.set_index(np.arange(0,np.max(index_time),time_resolution))\n",
    "        experiment_collection['experiment_{0}'.format(order+5)]=temp_df\n",
    "        order+=1\n",
    "    recording_length = len(temp_df.index)\n",
    "    return experiment_collection,recording_length\n"
   ]
  },
  {
   "cell_type": "markdown",
   "metadata": {},
   "source": [
    "# Find the time windows that in each window there is only one spike(or signal)\n",
    "## return a number"
   ]
  },
  {
   "cell_type": "code",
   "execution_count": 78,
   "metadata": {
    "collapsed": true
   },
   "outputs": [],
   "source": [
    "def highest_timeresolution_withoneineach(experiment_selected):\n",
    "    #find the minimum time window  \n",
    "    list_min=[]\n",
    "    for experiment in experiment_selected:\n",
    "        for i,channel in enumerate(experiment):\n",
    "            if len(channel[0]) != 0:\n",
    "                np.reshape(channel,len(channel))\n",
    "                channel = channel.astype(int)\n",
    "                channel = np.reshape(channel,len(channel))\n",
    "                channel =np.append(channel,0)\n",
    "                list_min.append(np.min(np.abs(channel[0:-1]-channel[1:])))\n",
    "    return np.min(list_min)"
   ]
  },
  {
   "cell_type": "markdown",
   "metadata": {},
   "source": [
    "# Convolve https://docs.scipy.org/doc/scipy/reference/generated/scipy.signal.convolve.html\n",
    "# decomposition http://scikit-learn.org/stable/modules/classes.html#module-sklearn.decomposition"
   ]
  },
  {
   "cell_type": "code",
   "execution_count": 80,
   "metadata": {
    "collapsed": false
   },
   "outputs": [],
   "source": [
    "header,channel_recording,order_time = convert_mat('forstan.mat')"
   ]
  },
  {
   "cell_type": "code",
   "execution_count": 81,
   "metadata": {
    "collapsed": false
   },
   "outputs": [
    {
     "name": "stderr",
     "output_type": "stream",
     "text": [
      "D:\\new\\anaconda\\lib\\site-packages\\ipykernel\\__main__.py:10: VisibleDeprecationWarning: using a non-integer number instead of an integer will result in an error in the future\n"
     ]
    }
   ],
   "source": [
    "experiment_selected,recording_length = to_timeseries(channel_recording[1:3],0.1,order_time)\n"
   ]
  },
  {
   "cell_type": "code",
   "execution_count": 74,
   "metadata": {
    "collapsed": false
   },
   "outputs": [
    {
     "data": {
      "text/plain": [
       "dict_keys(['experiment_5', 'experiment_6'])"
      ]
     },
     "execution_count": 74,
     "metadata": {},
     "output_type": "execute_result"
    }
   ],
   "source": [
    "experiment_selected.keys()"
   ]
  }
 ],
 "metadata": {
  "kernelspec": {
   "display_name": "Python 3",
   "language": "python",
   "name": "python3"
  },
  "language_info": {
   "codemirror_mode": {
    "name": "ipython",
    "version": 3
   },
   "file_extension": ".py",
   "mimetype": "text/x-python",
   "name": "python",
   "nbconvert_exporter": "python",
   "pygments_lexer": "ipython3",
   "version": "3.6.0"
  }
 },
 "nbformat": 4,
 "nbformat_minor": 2
}
